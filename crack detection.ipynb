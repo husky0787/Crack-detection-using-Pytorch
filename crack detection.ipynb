{
  "metadata": {
    "kernelspec": {
      "display_name": "Python 3",
      "name": "python3"
    },
    "language_info": {
      "name": "python",
      "version": "3.11.11",
      "mimetype": "text/x-python",
      "codemirror_mode": {
        "name": "ipython",
        "version": 3
      },
      "pygments_lexer": "ipython3",
      "nbconvert_exporter": "python",
      "file_extension": ".py"
    },
    "kaggle": {
      "accelerator": "none",
      "dataSources": [
        {
          "sourceId": 792851,
          "sourceType": "datasetVersion",
          "datasetId": 414522
        }
      ],
      "dockerImageVersionId": 31040,
      "isInternetEnabled": false,
      "language": "python",
      "sourceType": "notebook",
      "isGpuEnabled": false
    },
    "colab": {
      "provenance": [],
      "gpuType": "T4"
    },
    "accelerator": "GPU"
  },
  "nbformat_minor": 0,
  "nbformat": 4,
  "cells": [
    {
      "source": [
        "# IMPORTANT: RUN THIS CELL IN ORDER TO IMPORT YOUR KAGGLE DATA SOURCES,\n",
        "# THEN FEEL FREE TO DELETE THIS CELL.\n",
        "# NOTE: THIS NOTEBOOK ENVIRONMENT DIFFERS FROM KAGGLE'S PYTHON\n",
        "# ENVIRONMENT SO THERE MAY BE MISSING LIBRARIES USED BY YOUR\n",
        "# NOTEBOOK.\n",
        "import kagglehub\n",
        "arunrk7_surface_crack_detection_path = kagglehub.dataset_download('arunrk7/surface-crack-detection')\n",
        "\n",
        "print('Data source import complete.')\n"
      ],
      "metadata": {
        "id": "TJEH8Uwwv1gl",
        "colab": {
          "base_uri": "https://localhost:8080/"
        },
        "outputId": "70861476-8603-4050-d1d8-70ed6650052a"
      },
      "cell_type": "code",
      "outputs": [
        {
          "output_type": "stream",
          "name": "stdout",
          "text": [
            "Data source import complete.\n"
          ]
        }
      ],
      "execution_count": 1
    },
    {
      "cell_type": "code",
      "source": [
        "arunrk7_surface_crack_detection_path"
      ],
      "metadata": {
        "colab": {
          "base_uri": "https://localhost:8080/",
          "height": 35
        },
        "id": "6Tyjea_K0peq",
        "outputId": "c07bf324-a212-4985-b56d-218d6bc94dcc"
      },
      "execution_count": 2,
      "outputs": [
        {
          "output_type": "execute_result",
          "data": {
            "text/plain": [
              "'/kaggle/input/surface-crack-detection'"
            ],
            "application/vnd.google.colaboratory.intrinsic+json": {
              "type": "string"
            }
          },
          "metadata": {},
          "execution_count": 2
        }
      ]
    },
    {
      "cell_type": "code",
      "source": [
        "import os\n",
        "import matplotlib.pyplot as plt\n",
        "from PIL import Image\n",
        "import numpy as np\n",
        "\n",
        "# Define the directory\n",
        "positive_dir = arunrk7_surface_crack_detection_path+'/Positive'\n",
        "negative_dir = arunrk7_surface_crack_detection_path+'/Negative'\n",
        "# Get the list of image filenames\n",
        "image_files = os.listdir(positive_dir)\n",
        "image_files_neg = os.listdir(negative_dir)\n",
        "# Load and preprocess the images\n",
        "# Image at index 1000\n",
        "img_path_1 = os.path.join(positive_dir, image_files[1000])\n",
        "img_1 = Image.open(img_path_1).convert('L')  # Convert to grayscale\n",
        "img_1 = img_1.resize((64, 64))  # Resize to 64x64\n",
        "img_1_array = np.array(img_1)  # Convert to numpy array for display\n",
        "\n",
        "img_path_2 = os.path.join(negative_dir, image_files_neg[1000])\n",
        "img_2 = Image.open(img_path_2).convert('L')  # Convert to grayscale\n",
        "img_2 = img_2.resize((64, 64))  # Resize to 64x64\n",
        "img_2_array = np.array(img_2)  # Convert to numpy array for display\n",
        "\n",
        "# Create subplots and display the images\n",
        "plt.subplot(1, 2, 1)\n",
        "plt.imshow(img_1_array, cmap='gray')\n",
        "plt.title(f\"Positive Image {image_files[1000]}\")\n",
        "plt.axis('off')\n",
        "\n",
        "plt.subplot(1, 2, 2)\n",
        "plt.imshow(img_2_array, cmap='gray')\n",
        "plt.title(f\"Negative Image {image_files[3000]}\")\n",
        "plt.axis('off')\n",
        "\n",
        "# Show the plot\n",
        "plt.show()"
      ],
      "metadata": {
        "colab": {
          "base_uri": "https://localhost:8080/",
          "height": 284
        },
        "id": "eA8rAZrnza2d",
        "outputId": "7c4488e4-7eec-4b76-fea9-d5c99005ed21"
      },
      "execution_count": 3,
      "outputs": [
        {
          "output_type": "display_data",
          "data": {
            "text/plain": [
              "<Figure size 640x480 with 2 Axes>"
            ],
            "image/png": "[encoded data removed]"
          },
          "metadata": {}
        }
      ]
    },
    {
      "cell_type": "code",
      "source": [
        "from PIL import Image\n",
        "sample_img_path = os.path.join(arunrk7_surface_crack_detection_path+\"/Negative\", os.listdir(arunrk7_surface_crack_detection_path+\"/Negative\")[0])\n",
        "img = Image.open(sample_img_path)\n",
        "print(img.size)"
      ],
      "metadata": {
        "trusted": true,
        "execution": {
          "iopub.status.busy": "2025-05-29T09:25:07.437431Z",
          "iopub.status.idle": "2025-05-29T09:25:07.437847Z",
          "shell.execute_reply.started": "2025-05-29T09:25:07.437631Z",
          "shell.execute_reply": "2025-05-29T09:25:07.437666Z"
        },
        "id": "JAhM2V41v1gq",
        "colab": {
          "base_uri": "https://localhost:8080/"
        },
        "outputId": "55617a9f-5e85-42cd-ff18-252090d456f4"
      },
      "outputs": [
        {
          "output_type": "stream",
          "name": "stdout",
          "text": [
            "(227, 227)\n"
          ]
        }
      ],
      "execution_count": 4
    },
    {
      "cell_type": "code",
      "source": [
        "from torchvision import transforms\n",
        "from torchvision.datasets import ImageFolder\n",
        "\n",
        "# Define the transformation pipeline\n",
        "transform = transforms.Compose([\n",
        "    transforms.Resize((64, 64)),  # Resize images to 128x128 (or any desired size)\n",
        "    transforms.Grayscale(num_output_channels=3),\n",
        "    transforms.ToTensor(),  # Convert to tensor and scale to [0, 1]\n",
        "])\n",
        "\n",
        "dataset = ImageFolder(root=arunrk7_surface_crack_detection_path, transform=transform)\n"
      ],
      "metadata": {
        "id": "T4mjF0Lp1hL3"
      },
      "execution_count": 5,
      "outputs": []
    },
    {
      "cell_type": "code",
      "source": [
        "import torch\n",
        "\n",
        "from torch.utils.data import DataLoader, random_split\n",
        "\n",
        "# Define the size of each split\n",
        "train_size = int(0.8 * len(dataset))  # 80% of the dataset\n",
        "val_size = int(0.1 * len(dataset))    # 10% of the dataset\n",
        "test_size = len(dataset) - train_size - val_size  # Remaining 10%\n",
        "\n",
        "# Set a random seed for reproducibility\n",
        "torch.manual_seed(0)\n",
        "\n",
        "# Split the dataset into train, validation, and test sets\n",
        "train_dataset, val_dataset, test_dataset = random_split(dataset, [train_size, val_size, test_size])\n",
        "\n",
        "# Create data loaders\n",
        "train_loader = DataLoader(train_dataset, batch_size=32, shuffle=True)\n",
        "val_loader = DataLoader(val_dataset, batch_size=32, shuffle=False)\n",
        "test_loader = DataLoader(test_dataset, batch_size=32, shuffle=False)"
      ],
      "metadata": {
        "trusted": true,
        "execution": {
          "iopub.status.busy": "2025-05-29T09:25:07.438618Z",
          "iopub.status.idle": "2025-05-29T09:25:07.438888Z",
          "shell.execute_reply.started": "2025-05-29T09:25:07.438771Z",
          "shell.execute_reply": "2025-05-29T09:25:07.438783Z"
        },
        "id": "WoDGBERQv1gq"
      },
      "outputs": [],
      "execution_count": 6
    },
    {
      "cell_type": "code",
      "source": [
        "import torch.nn as nn\n",
        "import torch.nn.functional as F\n",
        "import numpy as np\n",
        "import torch.optim as optim\n",
        "class CNNModel(nn.Module):\n",
        "    def __init__(self, input_shape):\n",
        "        super(CNNModel, self).__init__()\n",
        "\n",
        "        # First Conv Block: Conv2D -> ReLU -> MaxPool2D\n",
        "        self.conv1 = nn.Conv2d(in_channels=input_shape[0], out_channels=64, kernel_size=3, padding=\"same\")\n",
        "        self.pool1 = nn.MaxPool2d(kernel_size=2, stride=2)\n",
        "\n",
        "        # Second Conv Block: Conv2D -> ReLU -> MaxPool2D\n",
        "        self.conv2 = nn.Conv2d(in_channels=64, out_channels=64, kernel_size=3, padding=\"same\")\n",
        "        self.pool2 = nn.MaxPool2d(kernel_size=2, stride=2)\n",
        "\n",
        "        # Third Conv Block: Conv2D -> ReLU -> MaxPool2D\n",
        "        self.conv3 = nn.Conv2d(in_channels=64, out_channels=128, kernel_size=3, padding=\"same\")\n",
        "        self.pool3 = nn.MaxPool2d(kernel_size=2, stride=2)\n",
        "\n",
        "        # Fully Connected Layers\n",
        "        # Flatten is done in forward pass\n",
        "        self.fc1 = nn.Linear(128 * (input_shape[1] // 8) * (input_shape[2] // 8), 256)\n",
        "        self.dropout = nn.Dropout(0.5)\n",
        "        self.batchnorm = nn.BatchNorm1d(256)\n",
        "        self.fc2 = nn.Linear(256, 2)  # Output layer with 2 classes\n",
        "\n",
        "    def forward(self, x):\n",
        "        # Apply first conv block\n",
        "        x = F.relu(self.conv1(x))\n",
        "        x = self.pool1(x)\n",
        "\n",
        "        # Apply second conv block\n",
        "        x = F.relu(self.conv2(x))\n",
        "        x = self.pool2(x)\n",
        "\n",
        "        # Apply third conv block\n",
        "        x = F.relu(self.conv3(x))\n",
        "        x = self.pool3(x)\n",
        "\n",
        "        # Flatten the tensor\n",
        "        x = x.view(x.size(0), -1)  # Flatten: (batch_size, features)\n",
        "\n",
        "        # Fully connected layers\n",
        "        x = F.relu(self.fc1(x))\n",
        "        x = self.dropout(x)\n",
        "        x = self.batchnorm(x)\n",
        "        x = F.softmax(self.fc2(x), dim=1)  # Apply softmax for output\n",
        "\n",
        "        return x\n",
        "\n"
      ],
      "metadata": {
        "trusted": true,
        "execution": {
          "iopub.status.busy": "2025-05-29T09:25:07.439434Z",
          "iopub.status.idle": "2025-05-29T09:25:07.439653Z",
          "shell.execute_reply.started": "2025-05-29T09:25:07.43955Z",
          "shell.execute_reply": "2025-05-29T09:25:07.43956Z"
        },
        "id": "A1pMqNLsv1gr"
      },
      "outputs": [],
      "execution_count": 7
    },
    {
      "cell_type": "code",
      "source": [
        "input_shape = (3, 64, 64)  # (channels, height, width)\n",
        "model = CNNModel(input_shape)\n",
        "\n",
        "# Print model summary\n",
        "print(model)\n",
        "criterion = nn.CrossEntropyLoss()\n",
        "optimizer = optim.Adam(model.parameters())\n",
        "\n",
        "# Print number of trainable parameters\n",
        "print(sum(p.numel() for p in model.parameters() if p.requires_grad))\n",
        "\n",
        "train_losses = []\n",
        "val_losses = []\n",
        "val_accuracies = []\n",
        "\n",
        "# Training loop\n",
        "num_epochs = 5\n",
        "best_acc = 0\n",
        "for epoch in range(num_epochs):\n",
        "    model.train()\n",
        "    running_loss = 0.0\n",
        "    for inputs, labels in train_loader:\n",
        "        outputs = model(inputs)\n",
        "        loss = criterion(outputs, labels)\n",
        "        optimizer.zero_grad()\n",
        "        loss.backward()\n",
        "        optimizer.step()\n",
        "        running_loss += loss.item()\n",
        "    avg_train_loss = running_loss / len(train_loader)\n",
        "    train_losses.append(avg_train_loss)\n",
        "    print(f'Epoch {epoch+1}/{num_epochs} - Training loss: {avg_train_loss}')\n",
        "\n",
        "    # Validation loop\n",
        "    model.eval()\n",
        "    val_running_loss = 0.0\n",
        "    correct = 0\n",
        "    total = 0\n",
        "    with torch.no_grad():\n",
        "        for inputs, labels in val_loader:\n",
        "            outputs = model(inputs)\n",
        "            loss = criterion(outputs, labels)\n",
        "            val_running_loss += loss.item()\n",
        "            _, predicted = torch.max(outputs.data, 1)\n",
        "            total += labels.size(0)\n",
        "            correct += (predicted == labels).sum().item()\n",
        "    avg_val_loss = val_running_loss / len(val_loader)\n",
        "    accuracy = 100 * correct / total\n",
        "    val_losses.append(avg_val_loss)\n",
        "    val_accuracies.append(accuracy)\n",
        "    print(f'Epoch {epoch+1}/{num_epochs} - Validation loss: {avg_val_loss}')\n",
        "    print(f'Epoch {epoch+1}/{num_epochs} - Validation accuracy: {accuracy}%')\n",
        "\n",
        "    # Save the model if the current accuracy is the best\n",
        "    if accuracy > best_acc:\n",
        "        best_acc = accuracy\n",
        "        torch.save(model.state_dict(), 'best_model.pth')\n",
        "        print(f'Model improved and saved with accuracy: {accuracy}%')\n",
        "\n",
        "print('Finished Training')\n"
      ],
      "metadata": {
        "trusted": true,
        "execution": {
          "iopub.status.busy": "2025-05-29T09:25:07.441036Z",
          "iopub.status.idle": "2025-05-29T09:25:07.441323Z",
          "shell.execute_reply.started": "2025-05-29T09:25:07.441205Z",
          "shell.execute_reply": "2025-05-29T09:25:07.441217Z"
        },
        "id": "246ZYtdnv1gr",
        "colab": {
          "base_uri": "https://localhost:8080/"
        },
        "outputId": "17ccf3ad-134d-4aab-a4e3-70e7e399521a"
      },
      "outputs": [
        {
          "output_type": "stream",
          "name": "stdout",
          "text": [
            "CNNModel(\n",
            "  (conv1): Conv2d(3, 64, kernel_size=(3, 3), stride=(1, 1), padding=same)\n",
            "  (pool1): MaxPool2d(kernel_size=2, stride=2, padding=0, dilation=1, ceil_mode=False)\n",
            "  (conv2): Conv2d(64, 64, kernel_size=(3, 3), stride=(1, 1), padding=same)\n",
            "  (pool2): MaxPool2d(kernel_size=2, stride=2, padding=0, dilation=1, ceil_mode=False)\n",
            "  (conv3): Conv2d(64, 128, kernel_size=(3, 3), stride=(1, 1), padding=same)\n",
            "  (pool3): MaxPool2d(kernel_size=2, stride=2, padding=0, dilation=1, ceil_mode=False)\n",
            "  (fc1): Linear(in_features=8192, out_features=256, bias=True)\n",
            "  (dropout): Dropout(p=0.5, inplace=False)\n",
            "  (batchnorm): BatchNorm1d(256, eps=1e-05, momentum=0.1, affine=True, track_running_stats=True)\n",
            "  (fc2): Linear(in_features=256, out_features=2, bias=True)\n",
            ")\n",
            "2211010\n",
            "Epoch 1/5 - Training loss: 0.3448509542644024\n",
            "Epoch 1/5 - Validation loss: 0.3300980052947998\n",
            "Epoch 1/5 - Validation accuracy: 98.325%\n",
            "Model improved and saved with accuracy: 98.325%\n",
            "Epoch 2/5 - Training loss: 0.3313770746588707\n",
            "Epoch 2/5 - Validation loss: 0.3214052379131317\n",
            "Epoch 2/5 - Validation accuracy: 99.175%\n",
            "Model improved and saved with accuracy: 99.175%\n",
            "Epoch 3/5 - Training loss: 0.32527179062366485\n",
            "Epoch 3/5 - Validation loss: 0.32137813925743103\n",
            "Epoch 3/5 - Validation accuracy: 99.175%\n",
            "Epoch 4/5 - Training loss: 0.3227632603049278\n",
            "Epoch 4/5 - Validation loss: 0.3220863513946533\n",
            "Epoch 4/5 - Validation accuracy: 99.125%\n",
            "Epoch 5/5 - Training loss: 0.3220091271996498\n",
            "Epoch 5/5 - Validation loss: 0.31812924027442935\n",
            "Epoch 5/5 - Validation accuracy: 99.525%\n",
            "Model improved and saved with accuracy: 99.525%\n",
            "Finished Training\n"
          ]
        }
      ],
      "execution_count": 8
    },
    {
      "cell_type": "code",
      "source": [
        "# Plotting\n",
        "plt.figure(figsize=(12, 4))\n",
        "\n",
        "# Plot Training and Validation Loss\n",
        "plt.subplot(1, 2, 1)\n",
        "plt.plot(range(1, num_epochs + 1), train_losses, label='Training Loss')\n",
        "plt.plot(range(1, num_epochs + 1), val_losses, label='Validation Loss')\n",
        "plt.xlabel('Epoch')\n",
        "plt.ylabel('Loss')\n",
        "plt.title('Training and Validation Loss')\n",
        "plt.legend()\n",
        "plt.grid(True)\n",
        "\n",
        "# Plot Validation Accuracy\n",
        "plt.subplot(1, 2, 2)\n",
        "plt.plot(range(1, num_epochs + 1), val_accuracies, label='Validation Accuracy', color='green')\n",
        "plt.xlabel('Epoch')\n",
        "plt.ylabel('Accuracy (%)')\n",
        "plt.title('Validation Accuracy')\n",
        "plt.legend()\n",
        "plt.grid(True)\n",
        "\n",
        "plt.tight_layout()\n",
        "plt.show()"
      ],
      "metadata": {
        "trusted": true,
        "id": "fcvHJOXAv1gs",
        "colab": {
          "base_uri": "https://localhost:8080/",
          "height": 407
        },
        "outputId": "70ad5a56-af21-4be8-b861-181d1ebbbf72"
      },
      "outputs": [
        {
          "output_type": "display_data",
          "data": {
            "text/plain": [
              "<Figure size 1200x400 with 2 Axes>"
            ],
            "image/png": "[encoded data removed]"
          },
          "metadata": {}
        }
      ],
      "execution_count": 9
    },
    {
      "cell_type": "code",
      "source": [
        "train_losses"
      ],
      "metadata": {
        "colab": {
          "base_uri": "https://localhost:8080/"
        },
        "id": "YAO_tJoLBuqO",
        "outputId": "1d34f511-6d7e-4648-ada2-3a4d0f911815"
      },
      "execution_count": 10,
      "outputs": [
        {
          "output_type": "execute_result",
          "data": {
            "text/plain": [
              "[0.3448509542644024,\n",
              " 0.3313770746588707,\n",
              " 0.32527179062366485,\n",
              " 0.3227632603049278,\n",
              " 0.3220091271996498]"
            ]
          },
          "metadata": {},
          "execution_count": 10
        }
      ]
    },
    {
      "cell_type": "code",
      "source": [
        "from sklearn.metrics import classification_report\n",
        "model.eval()\n",
        "true_labels = []\n",
        "pred_labels = []\n",
        "\n",
        "with torch.no_grad():\n",
        "    for inputs, labels in test_loader:\n",
        "        outputs = model(inputs)\n",
        "        _, predicted = torch.max(outputs.data, 1)\n",
        "        true_labels.extend(labels.cpu().numpy())  # Move to CPU and convert to numpy\n",
        "        pred_labels.extend(predicted.cpu().numpy())\n",
        "\n",
        "# Generate classification report\n",
        "class_names = ['Negative', 'Positive']  # Match your dataset classes\n",
        "report = classification_report(true_labels, pred_labels, target_names=class_names)\n",
        "print(\"\\nClassification Report:\")\n",
        "print(report)"
      ],
      "metadata": {
        "colab": {
          "base_uri": "https://localhost:8080/"
        },
        "id": "eFajp_fo201r",
        "outputId": "c670b8c9-6245-4806-b00e-d50064f1d4f0"
      },
      "execution_count": 11,
      "outputs": [
        {
          "output_type": "stream",
          "name": "stdout",
          "text": [
            "\n",
            "Classification Report:\n",
            "              precision    recall  f1-score   support\n",
            "\n",
            "    Negative       0.99      1.00      1.00      1966\n",
            "    Positive       1.00      0.99      1.00      2034\n",
            "\n",
            "    accuracy                           1.00      4000\n",
            "   macro avg       1.00      1.00      1.00      4000\n",
            "weighted avg       1.00      1.00      1.00      4000\n",
            "\n"
          ]
        }
      ]
    },
    {
      "cell_type": "code",
      "source": [
        "!pip install onnx"
      ],
      "metadata": {
        "colab": {
          "base_uri": "https://localhost:8080/"
        },
        "id": "VqxaNFG-POIE",
        "outputId": "48098416-7699-4575-8e0e-9b1e4043c358"
      },
      "execution_count": 14,
      "outputs": [
        {
          "output_type": "stream",
          "name": "stdout",
          "text": [
            "Collecting onnx\n",
            "  Downloading onnx-1.18.0-cp311-cp311-manylinux_2_17_x86_64.manylinux2014_x86_64.whl.metadata (6.9 kB)\n",
            "Requirement already satisfied: numpy>=1.22 in /usr/local/lib/python3.11/dist-packages (from onnx) (2.0.2)\n",
            "Requirement already satisfied: protobuf>=4.25.1 in /usr/local/lib/python3.11/dist-packages (from onnx) (5.29.4)\n",
            "Requirement already satisfied: typing_extensions>=4.7.1 in /usr/local/lib/python3.11/dist-packages (from onnx) (4.13.2)\n",
            "Downloading onnx-1.18.0-cp311-cp311-manylinux_2_17_x86_64.manylinux2014_x86_64.whl (17.6 MB)\n",
            "\u001b[2K   \u001b[90m━━━━━━━━━━━━━━━━━━━━━━━━━━━━━━━━━━━━━━━━\u001b[0m \u001b[32m17.6/17.6 MB\u001b[0m \u001b[31m106.9 MB/s\u001b[0m eta \u001b[36m0:00:00\u001b[0m\n",
            "\u001b[?25hInstalling collected packages: onnx\n",
            "Successfully installed onnx-1.18.0\n"
          ]
        }
      ]
    },
    {
      "cell_type": "code",
      "source": [
        "import torch.onnx\n",
        "\n",
        "# Assuming your SimpleCNN is already trained and loaded with the best weights\n",
        "model = CNNModel(input_shape)\n",
        "model.load_state_dict(torch.load('best_model.pth'))  # Load the best saved model\n",
        "model.eval()  # Set to evaluation mode\n",
        "\n",
        "# Move model to CPU for export (ONNX export typically works on CPU)\n",
        "model = model.cpu()\n",
        "\n",
        "# Define a dummy input tensor with the same shape as your input data\n",
        "# Your model expects (batch_size, 1, 30, 30) for grayscale 30x30 images\n",
        "dummy_input = torch.randn(1, 3, 64, 64)  # Batch size of 1 for export\n",
        "\n",
        "# Export the model to ONNX\n",
        "onnx_path = \"CNNModel.onnx\"\n",
        "torch.onnx.export(\n",
        "    model,                    # Model to export\n",
        "    dummy_input,              # Example input tensor\n",
        "    onnx_path,                # Output file path\n",
        "    export_params=True,       # Export model parameters\n",
        "    opset_version=11,         # ONNX opset version (11 is widely compatible)\n",
        "    do_constant_folding=True, # Optimize by folding constants\n",
        "    input_names=['input'],    # Name of the input tensor\n",
        "    output_names=['output'],  # Name of the output tensor\n",
        "    dynamic_axes={            # Allow dynamic batch size\n",
        "        'input': {0: 'batch_size'},\n",
        "        'output': {0: 'batch_size'}\n",
        "    }\n",
        ")\n",
        "\n",
        "print(f\"Model exported to {onnx_path}\")"
      ],
      "metadata": {
        "colab": {
          "base_uri": "https://localhost:8080/"
        },
        "id": "gbtzgszhMPlP",
        "outputId": "78bdfdaf-ae12-4cf0-8f5e-6e7d1ae2e9b9"
      },
      "execution_count": 15,
      "outputs": [
        {
          "output_type": "stream",
          "name": "stdout",
          "text": [
            "Model exported to CNNModel.onnx\n"
          ]
        }
      ]
    },
    {
      "cell_type": "code",
      "source": [
        "!pip install onnxruntime"
      ],
      "metadata": {
        "colab": {
          "base_uri": "https://localhost:8080/"
        },
        "id": "dyNzZjLPPqXz",
        "outputId": "50e5e5f8-212c-451c-96ab-20607c70af45"
      },
      "execution_count": 18,
      "outputs": [
        {
          "output_type": "stream",
          "name": "stdout",
          "text": [
            "Collecting onnxruntime\n",
            "  Downloading onnxruntime-1.22.0-cp311-cp311-manylinux_2_27_x86_64.manylinux_2_28_x86_64.whl.metadata (4.5 kB)\n",
            "Collecting coloredlogs (from onnxruntime)\n",
            "  Downloading coloredlogs-15.0.1-py2.py3-none-any.whl.metadata (12 kB)\n",
            "Requirement already satisfied: flatbuffers in /usr/local/lib/python3.11/dist-packages (from onnxruntime) (25.2.10)\n",
            "Requirement already satisfied: numpy>=1.21.6 in /usr/local/lib/python3.11/dist-packages (from onnxruntime) (2.0.2)\n",
            "Requirement already satisfied: packaging in /usr/local/lib/python3.11/dist-packages (from onnxruntime) (24.2)\n",
            "Requirement already satisfied: protobuf in /usr/local/lib/python3.11/dist-packages (from onnxruntime) (5.29.4)\n",
            "Requirement already satisfied: sympy in /usr/local/lib/python3.11/dist-packages (from onnxruntime) (1.13.1)\n",
            "Collecting humanfriendly>=9.1 (from coloredlogs->onnxruntime)\n",
            "  Downloading humanfriendly-10.0-py2.py3-none-any.whl.metadata (9.2 kB)\n",
            "Requirement already satisfied: mpmath<1.4,>=1.1.0 in /usr/local/lib/python3.11/dist-packages (from sympy->onnxruntime) (1.3.0)\n",
            "Downloading onnxruntime-1.22.0-cp311-cp311-manylinux_2_27_x86_64.manylinux_2_28_x86_64.whl (16.4 MB)\n",
            "\u001b[2K   \u001b[90m━━━━━━━━━━━━━━━━━━━━━━━━━━━━━━━━━━━━━━━━\u001b[0m \u001b[32m16.4/16.4 MB\u001b[0m \u001b[31m59.9 MB/s\u001b[0m eta \u001b[36m0:00:00\u001b[0m\n",
            "\u001b[?25hDownloading coloredlogs-15.0.1-py2.py3-none-any.whl (46 kB)\n",
            "\u001b[2K   \u001b[90m━━━━━━━━━━━━━━━━━━━━━━━━━━━━━━━━━━━━━━━━\u001b[0m \u001b[32m46.0/46.0 kB\u001b[0m \u001b[31m4.6 MB/s\u001b[0m eta \u001b[36m0:00:00\u001b[0m\n",
            "\u001b[?25hDownloading humanfriendly-10.0-py2.py3-none-any.whl (86 kB)\n",
            "\u001b[2K   \u001b[90m━━━━━━━━━━━━━━━━━━━━━━━━━━━━━━━━━━━━━━━━\u001b[0m \u001b[32m86.8/86.8 kB\u001b[0m \u001b[31m8.1 MB/s\u001b[0m eta \u001b[36m0:00:00\u001b[0m\n",
            "\u001b[?25hInstalling collected packages: humanfriendly, coloredlogs, onnxruntime\n",
            "Successfully installed coloredlogs-15.0.1 humanfriendly-10.0 onnxruntime-1.22.0\n"
          ]
        }
      ]
    },
    {
      "cell_type": "code",
      "source": [
        "import onnx\n",
        "import onnxruntime as ort\n",
        "import numpy as np\n",
        "\n",
        "# Load the ONNX model\n",
        "onnx_model = onnx.load(\"CNNModel.onnx\")\n",
        "onnx.checker.check_model(onnx_model)  # Verify the model is valid\n",
        "print(\"ONNX model is valid\")\n",
        "\n",
        "# Create an ONNX Runtime session\n",
        "ort_session = ort.InferenceSession(\"CNNModel.onnx\")\n",
        "\n",
        "# Prepare a test input (same as dummy_input but as a NumPy array)\n",
        "test_input = np.random.randn(1, 3, 64, 64).astype(np.float32)\n",
        "\n",
        "# Run inference with ONNX Runtime\n",
        "ort_inputs = {ort_session.get_inputs()[0].name: test_input}\n",
        "ort_outputs = ort_session.run(None, ort_inputs)[0]\n",
        "\n",
        "# Run inference with PyTorch for comparison\n",
        "with torch.no_grad():\n",
        "    pytorch_input = torch.from_numpy(test_input)\n",
        "    pytorch_output = model(pytorch_input).numpy()\n",
        "\n",
        "# Compare outputs\n",
        "print(\"PyTorch output:\", pytorch_output)\n",
        "print(\"ONNX output:\", ort_outputs)\n",
        "print(\"Difference:\", np.abs(pytorch_output - ort_outputs).max())"
      ],
      "metadata": {
        "colab": {
          "base_uri": "https://localhost:8080/"
        },
        "id": "wQ1FQdaqPeHr",
        "outputId": "a0e97538-8c4b-4e2e-b5a1-c3d6c73f71f7"
      },
      "execution_count": 19,
      "outputs": [
        {
          "output_type": "stream",
          "name": "stdout",
          "text": [
            "ONNX model is valid\n",
            "PyTorch output: [[1. 0.]]\n",
            "ONNX output: [[1. 0.]]\n",
            "Difference: 0.0\n"
          ]
        }
      ]
    },
    {
      "cell_type": "code",
      "source": [
        "!pip install onnx-simplifier\n",
        "\n",
        "import onnxsim\n",
        "\n",
        "# Simplify the model\n",
        "model_simp, check = onnxsim.simplify(\"CNNModel.onnx\")\n",
        "onnx.save(model_simp, \"CNNModel_simplified.onnx\")\n",
        "print(\"Model simplified successfully\" if check else \"Simplification failed\")"
      ],
      "metadata": {
        "colab": {
          "base_uri": "https://localhost:8080/"
        },
        "id": "4_Z89nkKP7P9",
        "outputId": "cdbd8474-86a3-472b-eeed-cdc21703b651"
      },
      "execution_count": 20,
      "outputs": [
        {
          "output_type": "stream",
          "name": "stdout",
          "text": [
            "Collecting onnx-simplifier\n",
            "  Downloading onnx_simplifier-0.4.36-cp311-cp311-manylinux_2_17_x86_64.manylinux2014_x86_64.whl.metadata (4.3 kB)\n",
            "Requirement already satisfied: onnx in /usr/local/lib/python3.11/dist-packages (from onnx-simplifier) (1.18.0)\n",
            "Requirement already satisfied: rich in /usr/local/lib/python3.11/dist-packages (from onnx-simplifier) (13.9.4)\n",
            "Requirement already satisfied: numpy>=1.22 in /usr/local/lib/python3.11/dist-packages (from onnx->onnx-simplifier) (2.0.2)\n",
            "Requirement already satisfied: protobuf>=4.25.1 in /usr/local/lib/python3.11/dist-packages (from onnx->onnx-simplifier) (5.29.4)\n",
            "Requirement already satisfied: typing_extensions>=4.7.1 in /usr/local/lib/python3.11/dist-packages (from onnx->onnx-simplifier) (4.13.2)\n",
            "Requirement already satisfied: markdown-it-py>=2.2.0 in /usr/local/lib/python3.11/dist-packages (from rich->onnx-simplifier) (3.0.0)\n",
            "Requirement already satisfied: pygments<3.0.0,>=2.13.0 in /usr/local/lib/python3.11/dist-packages (from rich->onnx-simplifier) (2.19.1)\n",
            "Requirement already satisfied: mdurl~=0.1 in /usr/local/lib/python3.11/dist-packages (from markdown-it-py>=2.2.0->rich->onnx-simplifier) (0.1.2)\n",
            "Downloading onnx_simplifier-0.4.36-cp311-cp311-manylinux_2_17_x86_64.manylinux2014_x86_64.whl (2.3 MB)\n",
            "\u001b[2K   \u001b[90m━━━━━━━━━━━━━━━━━━━━━━━━━━━━━━━━━━━━━━━━\u001b[0m \u001b[32m2.3/2.3 MB\u001b[0m \u001b[31m26.5 MB/s\u001b[0m eta \u001b[36m0:00:00\u001b[0m\n",
            "\u001b[?25hInstalling collected packages: onnx-simplifier\n",
            "Successfully installed onnx-simplifier-0.4.36\n",
            "Model simplified successfully\n"
          ]
        }
      ]
    },
    {
      "cell_type": "code",
      "source": [
        "import onnxruntime as ort\n",
        "import numpy as np\n",
        "from PIL import Image\n",
        "\n",
        "# Load the ONNX model\n",
        "ort_session = ort.InferenceSession(\"CNNModel_simplified.onnx\")\n",
        "\n",
        "# Load and preprocess a test image\n",
        "img_path = arunrk7_surface_crack_detection_path+\"/Positive/\"+\"09999.jpg\"\n",
        "img = Image.open(img_path)\n",
        "img = img.resize((64, 64))\n",
        "img_array = np.array(img).astype(np.float32) / 255.0  # Normalize to [0, 1]\n",
        "img_array = img_array.reshape(1, 3, 64, 64)\n",
        "\n",
        "# Run inference\n",
        "ort_inputs = {ort_session.get_inputs()[0].name: img_array}\n",
        "ort_outputs = ort_session.run(None, ort_inputs)[0]\n",
        "predicted_class = np.argmax(ort_outputs, axis=1)[0]\n",
        "\n",
        "# Map prediction to class name\n",
        "class_names = ['Negative', 'Positive']\n",
        "print(f\"Predicted class: {class_names[predicted_class]}\")"
      ],
      "metadata": {
        "colab": {
          "base_uri": "https://localhost:8080/"
        },
        "id": "LwvmqxDCP2yZ",
        "outputId": "40a41769-b52c-42aa-abc8-ee87af96659e"
      },
      "execution_count": 36,
      "outputs": [
        {
          "output_type": "stream",
          "name": "stdout",
          "text": [
            "Predicted class: Positive\n"
          ]
        }
      ]
    }
  ]
}